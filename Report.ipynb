{
 "cells": [
  {
   "cell_type": "markdown",
   "metadata": {},
   "source": [
    "# UDACITY - Project 2 - Continuous Control\n",
    "\n",
    "---\n",
    "\n",
    "\n",
    "## 1. Start the Environment on UDACITY workplace\n",
    "\n",
    "Run the next code cell to install a few packages on the UDACITY workspace.  This line will take a few minutes to run! It's not required if you run this notebook on your computer, as the environment has been installed following the intructions of the README."
   ]
  },
  {
   "cell_type": "code",
   "execution_count": 1,
   "metadata": {},
   "outputs": [],
   "source": [
    "!pip -q install ./python"
   ]
  },
  {
   "cell_type": "markdown",
   "metadata": {},
   "source": [
    "The environments corresponding to both versions REACHER are already saved in the UDACITY workspace and can be accessed using the file paths provided below. Please only use one of these at a time for loading the environment."
   ]
  },
  {
   "cell_type": "markdown",
   "metadata": {},
   "source": [
    "## 2. Mono Agent version of REACHER\n",
    "### 2.1. Start the environment on UDACITY workplace\n"
   ]
  },
  {
   "cell_type": "code",
   "execution_count": 2,
   "metadata": {},
   "outputs": [
    {
     "name": "stderr",
     "output_type": "stream",
     "text": [
      "INFO:unityagents:\n",
      "'Academy' started successfully!\n",
      "Unity Academy name: Academy\n",
      "        Number of Brains: 1\n",
      "        Number of External Brains : 1\n",
      "        Lesson number : 0\n",
      "        Reset Parameters :\n",
      "\t\tgoal_size -> 5.0\n",
      "\t\tgoal_speed -> 1.0\n",
      "Unity brain name: ReacherBrain\n",
      "        Number of Visual Observations (per agent): 0\n",
      "        Vector Observation space type: continuous\n",
      "        Vector Observation space size (per agent): 33\n",
      "        Number of stacked Vector Observation: 1\n",
      "        Vector Action space type: continuous\n",
      "        Vector Action space size (per agent): 4\n",
      "        Vector Action descriptions: , , , \n"
     ]
    }
   ],
   "source": [
    "from unityagents import UnityEnvironment\n",
    "import numpy as np\n",
    "\n",
    "# select this option to load version 1 (with a single agent) of the environment\n",
    "env = UnityEnvironment(file_name='/data/Reacher_One_Linux_NoVis/Reacher_One_Linux_NoVis.x86_64')\n",
    "# env = UnityEnvironment(file_name='Reacher.app')\n",
    "\n",
    "# select this option to load version 2 (with 20 agents) of the environment\n",
    "# env = UnityEnvironment(file_name='/data/Reacher_Linux_NoVis/Reacher.x86_64')\n",
    "# env = UnityEnvironment(file_name='./20/Reacher.app')\n"
   ]
  },
  {
   "cell_type": "markdown",
   "metadata": {},
   "source": [
    "Environments contain **_brains_** which are responsible for deciding the actions of their associated agents. Here we check for the first brain available, and set it as the default brain we will be controlling from Python."
   ]
  },
  {
   "cell_type": "code",
   "execution_count": 3,
   "metadata": {},
   "outputs": [],
   "source": [
    "# get the default brain\n",
    "brain_name = env.brain_names[0]\n",
    "brain = env.brains[brain_name]"
   ]
  },
  {
   "cell_type": "markdown",
   "metadata": {},
   "source": [
    "### 2.2. Examine the State and Action Spaces\n",
    "\n",
    "Run the code cell below to print some information about the environment."
   ]
  },
  {
   "cell_type": "code",
   "execution_count": 4,
   "metadata": {},
   "outputs": [
    {
     "name": "stdout",
     "output_type": "stream",
     "text": [
      "Number of agents: 1\n",
      "Size of each action: 4\n",
      "There are 1 agents. Each observes a state with length: 33\n",
      "The state for the first agent looks like: [  0.00000000e+00  -4.00000000e+00   0.00000000e+00   1.00000000e+00\n",
      "  -0.00000000e+00  -0.00000000e+00  -4.37113883e-08   0.00000000e+00\n",
      "   0.00000000e+00   0.00000000e+00   0.00000000e+00   0.00000000e+00\n",
      "   0.00000000e+00   0.00000000e+00  -1.00000000e+01   0.00000000e+00\n",
      "   1.00000000e+00  -0.00000000e+00  -0.00000000e+00  -4.37113883e-08\n",
      "   0.00000000e+00   0.00000000e+00   0.00000000e+00   0.00000000e+00\n",
      "   0.00000000e+00   0.00000000e+00   5.75471878e+00  -1.00000000e+00\n",
      "   5.55726671e+00   0.00000000e+00   1.00000000e+00   0.00000000e+00\n",
      "  -1.68164849e-01]\n"
     ]
    }
   ],
   "source": [
    "# reset the environment\n",
    "env_info = env.reset(train_mode=True)[brain_name]\n",
    "\n",
    "# number of agents\n",
    "num_agents = len(env_info.agents)\n",
    "print('Number of agents:', num_agents)\n",
    "\n",
    "# size of each action\n",
    "action_size = brain.vector_action_space_size\n",
    "print('Size of each action:', action_size)\n",
    "\n",
    "# examine the state space \n",
    "states = env_info.vector_observations\n",
    "state_size = states.shape[1]\n",
    "print('There are {} agents. Each observes a state with length: {}'.format(states.shape[0], state_size))\n",
    "print('The state for the first agent looks like:', states[0])"
   ]
  },
  {
   "cell_type": "markdown",
   "metadata": {},
   "source": [
    "### 2.3. Take Random Actions in the Environment\n",
    "\n",
    "In the next code cell, you will learn how to use the Python API to control the agent and receive feedback from the environment.\n",
    "\n",
    "Note that **in this coding environment, you will not be able to watch the agents while they are training**, and you should set `train_mode=True` to restart the environment."
   ]
  },
  {
   "cell_type": "code",
   "execution_count": 5,
   "metadata": {},
   "outputs": [
    {
     "name": "stdout",
     "output_type": "stream",
     "text": [
      "Total score (averaged over agents) this episode: 0.0\n"
     ]
    }
   ],
   "source": [
    "env_info = env.reset(train_mode=True)[brain_name]      # reset the environment    \n",
    "states = env_info.vector_observations                  # get the current state (for each agent)\n",
    "scores = np.zeros(num_agents)                          # initialize the score (for each agent)\n",
    "while True:\n",
    "    actions = np.random.randn(num_agents, action_size) # select an action (for each agent)\n",
    "    actions = np.clip(actions, -1, 1)                  # all actions between -1 and 1\n",
    "    env_info = env.step(actions)[brain_name]           # send all actions to tne environment\n",
    "    next_states = env_info.vector_observations         # get next state (for each agent)\n",
    "    rewards = env_info.rewards                         # get reward (for each agent)\n",
    "    dones = env_info.local_done                        # see if episode finished\n",
    "    scores += env_info.rewards                         # update the score (for each agent)\n",
    "    states = next_states                               # roll over states to next time step\n",
    "    if np.any(dones):                                  # exit loop if episode finished\n",
    "        break\n",
    "print('Total score (averaged over agents) this episode: {}'.format(np.mean(scores)))"
   ]
  },
  {
   "cell_type": "markdown",
   "metadata": {},
   "source": [
    "### 2.4. Train the agent\n",
    "\n",
    "#### 2.4.1. The algorithm\n",
    "As suggested, I decide to use the DDPG algorithm to solve this problem, and the code for the model ('model.py') and the agent ('agent.py') is higly inspired from: \n",
    "- https://github.com/udacity/deep-reinforcement-learning/blob/55474449a112fa72323f484c4b7a498c8dc84be1/ddpg-bipedal/model.py\n",
    "- https://github.com/udacity/deep-reinforcement-learning/blob/55474449a112fa72323f484c4b7a498c8dc84be1/ddpg-bipedal/ddpg_agent.py\n",
    " \n",
    "#### 2.4.2. The model\n",
    "Both Actor & Critic are implemented using deep neural networks with 2 hidden layers. I have experimented various architecture: \n",
    "- fc1 = 256 & fc2 = 128\n",
    "- fc1 = 400 & fc2 = 200\n",
    "- fc1 = 200 & fc2 = 400\n",
    "- fc1 = 128 & fc2 = 256\n",
    "\n",
    "And it appears that the last one (fc1 = 128 & fc2 = 256) is converging better and faster.\n",
    "\n",
    "As suggested in the Slack channel, I have tried to add a Batch Normalization layer after the first layer, but it didn't improve the convergence. It was also suggested to use leaky_relu instead of rely for the Critic neural network, but I didn't notice improvement.\n",
    "\n",
    "#### 2.4.3. The hyper parameters\n",
    "Convergence mainly came when I've started to tweak the hyper parameters:\n",
    "- BUFFER_SIZE = int(2e6)\n",
    "- BATCH_SIZE = 64\n",
    "- GAMMA = 0.95\n",
    "- TAU = 0.001\n",
    "- LR_ACTOR = 0.001        \n",
    "- LR_CRITIC = 0.0001\n",
    "- WEIGHT_DECAY = 0   \n",
    "\n",
    "Convergence suddenly came when I've started reducing GAMMA and increasing the learning rate of the Actor neural network. "
   ]
  },
  {
   "cell_type": "code",
   "execution_count": 6,
   "metadata": {},
   "outputs": [],
   "source": [
    "from collections import deque\n",
    "import matplotlib.pyplot as plt"
   ]
  },
  {
   "cell_type": "code",
   "execution_count": 7,
   "metadata": {},
   "outputs": [],
   "source": [
    "from agent import Agent"
   ]
  },
  {
   "cell_type": "code",
   "execution_count": 8,
   "metadata": {},
   "outputs": [],
   "source": [
    "import torch"
   ]
  },
  {
   "cell_type": "code",
   "execution_count": 9,
   "metadata": {},
   "outputs": [],
   "source": [
    "agent = Agent(state_size=state_size, action_size=action_size, random_seed=22)"
   ]
  },
  {
   "cell_type": "code",
   "execution_count": 10,
   "metadata": {},
   "outputs": [],
   "source": [
    "def ddpg(n_episodes=200, max_t=1000, print_every=10):\n",
    "    scores = []\n",
    "    scores_deque = deque(maxlen=100)\n",
    "    solved = False\n",
    "    \n",
    "    for i_episode in range(1, n_episodes+1):\n",
    "        env_info = env.reset(train_mode=True)[brain_name]\n",
    "        agent.reset()\n",
    "        state = env_info.vector_observations[0]            # get the current state\n",
    "        score = 0\n",
    "        \n",
    "        for t in range(max_t):\n",
    "            action = agent.act(state)          # select an action\n",
    "       \n",
    "            env_info = env.step(action)[brain_name]        # send the action to the environment\n",
    "            next_state = env_info.vector_observations[0]   # get the next state\n",
    "            reward = env_info.rewards[0]                   # get the reward\n",
    "            done = env_info.local_done[0]                  # see if episode has finished\n",
    "            agent.step(state, action, reward, next_state, done) # take step with agent (including learning)\n",
    "            score += reward                                # update the score\n",
    "            state = next_state                             # roll over the state to next time step\n",
    "            if done:\n",
    "                break \n",
    "\n",
    "        \n",
    "        scores_deque.append(np.mean(score))       # save most recent score\n",
    "        scores.append(np.mean(score))             # save most recent score\n",
    "\n",
    "        print('\\rEpisode #{}\\tAverage Score = {:.2f}\\tScore of this episode = {:.3f}'.format(i_episode, np.mean(scores_deque), score), end=\"\")\n",
    "            \n",
    "        if i_episode % (print_every) == 0:\n",
    "            print('\\rEpisode #{}\\tAverage Score = {:.2f}\\tScore of this episode = {:.3f}'.format(i_episode, np.mean(scores_deque), score))\n",
    "        \n",
    "        if ((i_episode > 100) and (np.mean(scores_deque) >= 30.0) and (solved == False)):\n",
    "            solved = True\n",
    "            print('\\nEnvironment solved in {:d} episodes !\\tAverage Score = {:.2f}'.format(i_episode, np.mean(scores_deque)))\n",
    "            torch.save(agent.actor_local.state_dict(), 'checkpoint_actor.pth')\n",
    "            torch.save(agent.critic_local.state_dict(), 'checkpoint_critic.pth')\n",
    "            # continue up to n_episodes to confirm the environment is really solved\n",
    "            # break\n",
    "            \n",
    "    return scores"
   ]
  },
  {
   "cell_type": "markdown",
   "metadata": {},
   "source": [
    "### 2.5. Plot and analyse the result\n",
    "\n",
    "This environment is solved after 167 episodes (average on the last 100 rewards > 30), but start at 110 episodes, the reward remains above 30. To be 100% sure the reward do not fall down later, I continue the loop until 200 episodes."
   ]
  },
  {
   "cell_type": "code",
   "execution_count": 11,
   "metadata": {},
   "outputs": [
    {
     "name": "stdout",
     "output_type": "stream",
     "text": [
      "Episode #10\tAverage Score = 1.27\tScore of this episode = 1.020\n",
      "Episode #20\tAverage Score = 0.91\tScore of this episode = 1.500\n",
      "Episode #30\tAverage Score = 1.48\tScore of this episode = 3.390\n",
      "Episode #40\tAverage Score = 1.77\tScore of this episode = 2.900\n",
      "Episode #50\tAverage Score = 2.25\tScore of this episode = 3.970\n",
      "Episode #60\tAverage Score = 2.90\tScore of this episode = 6.600\n",
      "Episode #70\tAverage Score = 3.61\tScore of this episode = 9.4000\n",
      "Episode #80\tAverage Score = 4.49\tScore of this episode = 9.5700\n",
      "Episode #90\tAverage Score = 5.75\tScore of this episode = 18.080\n",
      "Episode #100\tAverage Score = 7.35\tScore of this episode = 27.540\n",
      "Episode #110\tAverage Score = 10.43\tScore of this episode = 32.760\n",
      "Episode #120\tAverage Score = 14.02\tScore of this episode = 37.500\n",
      "Episode #130\tAverage Score = 17.63\tScore of this episode = 38.370\n",
      "Episode #140\tAverage Score = 21.19\tScore of this episode = 38.010\n",
      "Episode #150\tAverage Score = 24.59\tScore of this episode = 36.340\n",
      "Episode #160\tAverage Score = 27.87\tScore of this episode = 39.150\n",
      "Episode #167\tAverage Score = 30.25\tScore of this episode = 38.500\n",
      "Environment solved in 167 episodes !\tAverage Score = 30.25\n",
      "Episode #170\tAverage Score = 30.98\tScore of this episode = 39.160\n",
      "Episode #180\tAverage Score = 33.77\tScore of this episode = 38.910\n",
      "Episode #190\tAverage Score = 36.08\tScore of this episode = 39.300\n",
      "Episode #200\tAverage Score = 37.75\tScore of this episode = 37.050\n"
     ]
    },
    {
     "data": {
      "image/png": "[encoded data removed]",
      "text/plain": [
       "<matplotlib.figure.Figure at 0x7f9aec534438>"
      ]
     },
     "metadata": {
      "needs_background": "light"
     },
     "output_type": "display_data"
    }
   ],
   "source": [
    "scores = ddpg()\n",
    "\n",
    "fig = plt.figure()\n",
    "ax = fig.add_subplot(111)\n",
    "plt.plot(np.arange(1, len(scores)+1), scores)\n",
    "plt.ylabel('Score')\n",
    "plt.xlabel('Episode')\n",
    "plt.show()"
   ]
  },
  {
   "cell_type": "code",
   "execution_count": 12,
   "metadata": {},
   "outputs": [],
   "source": [
    "env.close()"
   ]
  },
  {
   "cell_type": "markdown",
   "metadata": {},
   "source": [
    "## 3. Multi Agent version of REACHER\n",
    "### 3.1. Start the environment on UDACITY workplace"
   ]
  },
  {
   "cell_type": "code",
   "execution_count": 2,
   "metadata": {},
   "outputs": [],
   "source": [
    "from unityagents import UnityEnvironment\n",
    "import numpy as np"
   ]
  },
  {
   "cell_type": "code",
   "execution_count": 3,
   "metadata": {},
   "outputs": [
    {
     "name": "stderr",
     "output_type": "stream",
     "text": [
      "INFO:unityagents:\n",
      "'Academy' started successfully!\n",
      "Unity Academy name: Academy\n",
      "        Number of Brains: 1\n",
      "        Number of External Brains : 1\n",
      "        Lesson number : 0\n",
      "        Reset Parameters :\n",
      "\t\tgoal_speed -> 1.0\n",
      "\t\tgoal_size -> 5.0\n",
      "Unity brain name: ReacherBrain\n",
      "        Number of Visual Observations (per agent): 0\n",
      "        Vector Observation space type: continuous\n",
      "        Vector Observation space size (per agent): 33\n",
      "        Number of stacked Vector Observation: 1\n",
      "        Vector Action space type: continuous\n",
      "        Vector Action space size (per agent): 4\n",
      "        Vector Action descriptions: , , , \n"
     ]
    }
   ],
   "source": [
    "# select this option to load version 2 (with 20 agents) of the environment\n",
    "env = UnityEnvironment(file_name='/data/Reacher_Linux_NoVis/Reacher.x86_64')\n",
    "# env = UnityEnvironment(file_name='./20/Reacher.app')"
   ]
  },
  {
   "cell_type": "code",
   "execution_count": 4,
   "metadata": {},
   "outputs": [],
   "source": [
    "# get the default brain\n",
    "brain_name = env.brain_names[0]\n",
    "brain = env.brains[brain_name]"
   ]
  },
  {
   "cell_type": "markdown",
   "metadata": {},
   "source": [
    "### 3.2. Examine the State and Action Spaces\n",
    "\n",
    "Run the code cell below to print some information about the environment."
   ]
  },
  {
   "cell_type": "code",
   "execution_count": 5,
   "metadata": {},
   "outputs": [
    {
     "name": "stdout",
     "output_type": "stream",
     "text": [
      "Number of agents: 20\n",
      "Size of each action: 4\n",
      "There are 20 agents. Each observes a state with length: 33\n",
      "The state for the first agent looks like: [  0.00000000e+00  -4.00000000e+00   0.00000000e+00   1.00000000e+00\n",
      "  -0.00000000e+00  -0.00000000e+00  -4.37113883e-08   0.00000000e+00\n",
      "   0.00000000e+00   0.00000000e+00   0.00000000e+00   0.00000000e+00\n",
      "   0.00000000e+00   0.00000000e+00  -1.00000000e+01   0.00000000e+00\n",
      "   1.00000000e+00  -0.00000000e+00  -0.00000000e+00  -4.37113883e-08\n",
      "   0.00000000e+00   0.00000000e+00   0.00000000e+00   0.00000000e+00\n",
      "   0.00000000e+00   0.00000000e+00   5.75471878e+00  -1.00000000e+00\n",
      "   5.55726624e+00   0.00000000e+00   1.00000000e+00   0.00000000e+00\n",
      "  -1.68164849e-01]\n"
     ]
    }
   ],
   "source": [
    "# reset the environment\n",
    "env_info = env.reset(train_mode=True)[brain_name]\n",
    "\n",
    "# number of agents\n",
    "num_agents = len(env_info.agents)\n",
    "print('Number of agents:', num_agents)\n",
    "\n",
    "# size of each action\n",
    "action_size = brain.vector_action_space_size\n",
    "print('Size of each action:', action_size)\n",
    "\n",
    "# examine the state space \n",
    "states = env_info.vector_observations\n",
    "state_size = states.shape[1]\n",
    "print('There are {} agents. Each observes a state with length: {}'.format(states.shape[0], state_size))\n",
    "print('The state for the first agent looks like:', states[0])"
   ]
  },
  {
   "cell_type": "markdown",
   "metadata": {},
   "source": [
    "### 3.3. Train all the agents\n",
    "\n",
    "We have kept:\n",
    "- the same DDPG algorithm\n",
    "- the same 128-256 neural network model for both Actor & Critic\n",
    "- the same hyper parameters\n",
    "\n",
    "as the mono agent version."
   ]
  },
  {
   "cell_type": "code",
   "execution_count": 6,
   "metadata": {},
   "outputs": [],
   "source": [
    "from collections import deque\n",
    "import matplotlib.pyplot as plt\n",
    "import torch\n",
    "from multi_agent import Agent\n",
    "\n",
    "agent = Agent(state_size=state_size, action_size=action_size, num_agents=num_agents, random_seed=44)"
   ]
  },
  {
   "cell_type": "code",
   "execution_count": 7,
   "metadata": {},
   "outputs": [],
   "source": [
    "def ddpg_ma(n_episodes=200, max_t=1000, print_every=10):\n",
    "    scores = []\n",
    "    scores_deque = deque(maxlen=100)\n",
    "    solved = False\n",
    "    \n",
    "    for i_episode in range(1, n_episodes+1):\n",
    "        env_info = env.reset(train_mode=True)[brain_name]\n",
    "        agent.reset()\n",
    "        state = env_info.vector_observations            # get the current state\n",
    "        score = np.zeros(num_agents)\n",
    "        \n",
    "        for t in range(max_t):\n",
    "            action = agent.act(state)          # select an action\n",
    "       \n",
    "            env_info = env.step(action)[brain_name]        # send the action to the environment\n",
    "            next_state = env_info.vector_observations   # get the next state\n",
    "            reward = env_info.rewards                   # get the reward\n",
    "            done = env_info.local_done                  # see if episode has finished\n",
    "            agent.step(state, action, reward, next_state, done) # take step with agent (including learning)\n",
    "            score += reward                                # update the score\n",
    "            state = next_state                             # roll over the state to next time step\n",
    "            if np.any(done):\n",
    "                break \n",
    "\n",
    "        \n",
    "        scores_deque.append(np.mean(score))       # save most recent score\n",
    "        scores.append(np.mean(score))             # save most recent score\n",
    "\n",
    "        print('\\rEpisode #{}\\tAverage Score = {:.2f}\\tScore of this episode = {:.3f}'.format(i_episode, np.mean(scores_deque), np.mean(score)), end=\"\")\n",
    "            \n",
    "        if i_episode % (print_every) == 0:\n",
    "            print('\\rEpisode #{}\\tAverage Score = {:.2f}\\tScore of this episode = {:.3f}'.format(i_episode, np.mean(scores_deque), np.mean(score)))\n",
    "        \n",
    "        if ((i_episode > 100) and (np.mean(scores_deque) >= 30.0) and (solved == False)):\n",
    "            solved = True\n",
    "            print('\\nMulti-agent Environment solved in {:d} episodes !\\tAverage Score = {:.2f}'.format(i_episode, np.mean(scores_deque)))\n",
    "            torch.save(agent.actor_local.state_dict(), 'ma-checkpoint_actor.pth')\n",
    "            torch.save(agent.critic_local.state_dict(), 'ma-checkpoint_critic.pth')\n",
    "            # continue up to n_episodes to confirm the environment is really solved\n",
    "            # break\n",
    "            \n",
    "    return scores"
   ]
  },
  {
   "cell_type": "markdown",
   "metadata": {},
   "source": [
    "### 3.4. Plot and analyse the result\n",
    "\n",
    "This environment is solved only after 111 episodes (average on the last 100 rewards > 30), but starts at 50 episodes, the reward remains above 30. To be 100% sure the reward do not fall down later, I continue the loop until 200 episodes.\n",
    "\n",
    "The multi agent converges faster than the mono agent, because it benefits from 20 times more experiences at each episode."
   ]
  },
  {
   "cell_type": "code",
   "execution_count": 8,
   "metadata": {},
   "outputs": [
    {
     "name": "stdout",
     "output_type": "stream",
     "text": [
      "Episode #10\tAverage Score = 0.70\tScore of this episode = 1.639\n",
      "Episode #20\tAverage Score = 1.56\tScore of this episode = 3.027\n",
      "Episode #30\tAverage Score = 3.25\tScore of this episode = 10.207\n",
      "Episode #40\tAverage Score = 8.09\tScore of this episode = 29.864\n",
      "Episode #50\tAverage Score = 13.70\tScore of this episode = 38.088\n",
      "Episode #60\tAverage Score = 17.83\tScore of this episode = 38.681\n",
      "Episode #70\tAverage Score = 20.80\tScore of this episode = 38.632\n",
      "Episode #80\tAverage Score = 23.05\tScore of this episode = 38.738\n",
      "Episode #90\tAverage Score = 24.78\tScore of this episode = 38.430\n",
      "Episode #100\tAverage Score = 26.16\tScore of this episode = 38.232\n",
      "Episode #110\tAverage Score = 29.95\tScore of this episode = 38.357\n",
      "Episode #111\tAverage Score = 30.33\tScore of this episode = 39.183\n",
      "Multi-agent Environment solved in 111 episodes !\tAverage Score = 30.33\n",
      "Episode #120\tAverage Score = 33.59\tScore of this episode = 39.261\n",
      "Episode #130\tAverage Score = 36.81\tScore of this episode = 39.034\n",
      "Episode #140\tAverage Score = 38.41\tScore of this episode = 37.906\n",
      "Episode #150\tAverage Score = 38.60\tScore of this episode = 38.163\n",
      "Episode #160\tAverage Score = 38.58\tScore of this episode = 38.659\n",
      "Episode #170\tAverage Score = 38.55\tScore of this episode = 38.415\n",
      "Episode #180\tAverage Score = 38.48\tScore of this episode = 38.121\n",
      "Episode #190\tAverage Score = 38.40\tScore of this episode = 38.015\n",
      "Episode #200\tAverage Score = 38.36\tScore of this episode = 38.028\n"
     ]
    },
    {
     "data": {
      "image/png": "[encoded data removed]",
      "text/plain": [
       "<matplotlib.figure.Figure at 0x7fd0a604b5c0>"
      ]
     },
     "metadata": {
      "needs_background": "light"
     },
     "output_type": "display_data"
    }
   ],
   "source": [
    "scores = ddpg_ma()\n",
    "\n",
    "fig = plt.figure()\n",
    "ax = fig.add_subplot(111)\n",
    "plt.plot(np.arange(1, len(scores)+1), scores)\n",
    "plt.ylabel('Multi-agent Score')\n",
    "plt.xlabel('Episode')\n",
    "plt.show()"
   ]
  },
  {
   "cell_type": "code",
   "execution_count": 9,
   "metadata": {},
   "outputs": [],
   "source": [
    "env.close()"
   ]
  },
  {
   "cell_type": "markdown",
   "metadata": {},
   "source": [
    "## 4. Future work\n",
    "\n",
    "I've focussed on DDPG but there are DDPG improvements to try, such as D3PG and D4PG, A3C and PPO:\n",
    "- In the Slack channel, some students have reported great results using PPO instead of DDPG. \n",
    "- In this paper written by [Barth-Maron et al 2018](https://openreview.net/forum?id=SyZipzbCb) D4PG has achieved state of the art results on continuous control problems.\n",
    "\n",
    "\n",
    "However there is still room for improvement on the DDPG algorithm:\n",
    "- use priority in the Replay Buffer \n",
    "- adjust the Ornstein-Uhlenbeck noise level"
   ]
  },
  {
   "cell_type": "code",
   "execution_count": null,
   "metadata": {},
   "outputs": [],
   "source": []
  }
 ],
 "metadata": {
  "kernelspec": {
   "display_name": "Python 3",
   "language": "python",
   "name": "python3"
  },
  "language_info": {
   "codemirror_mode": {
    "name": "ipython",
    "version": 3
   },
   "file_extension": ".py",
   "mimetype": "text/x-python",
   "name": "python",
   "nbconvert_exporter": "python",
   "pygments_lexer": "ipython3",
   "version": "3.6.3"
  }
 },
 "nbformat": 4,
 "nbformat_minor": 2
}
